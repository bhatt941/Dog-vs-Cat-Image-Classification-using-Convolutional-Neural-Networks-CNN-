{
 "cells": [
  {
   "cell_type": "code",
   "execution_count": 1,
   "id": "b92c68e7-5ba0-4732-91af-25906eb92e10",
   "metadata": {},
   "outputs": [],
   "source": [
    "import tensorflow\n",
    "from tensorflow.keras.preprocessing.image import ImageDataGenerator"
   ]
  },
  {
   "cell_type": "code",
   "execution_count": 2,
   "id": "a504ee7d-eba6-4289-bdca-2bdb60e5f50a",
   "metadata": {},
   "outputs": [],
   "source": [
    "from keras.layers import Dense, Conv2D, MaxPooling2D, Flatten\n",
    "from keras.models import Sequential"
   ]
  },
  {
   "cell_type": "code",
   "execution_count": 3,
   "id": "96459de0-86d8-499d-97d6-16913b733eb4",
   "metadata": {},
   "outputs": [],
   "source": [
    "cnn=Sequential()"
   ]
  },
  {
   "cell_type": "code",
   "execution_count": 4,
   "id": "ff42de87-89c0-4f11-b0da-a0ee3bfce65d",
   "metadata": {},
   "outputs": [
    {
     "name": "stderr",
     "output_type": "stream",
     "text": [
      "C:\\Users\\Asus\\anaconda3\\Lib\\site-packages\\keras\\src\\layers\\convolutional\\base_conv.py:107: UserWarning: Do not pass an `input_shape`/`input_dim` argument to a layer. When using Sequential models, prefer using an `Input(shape)` object as the first layer in the model instead.\n",
      "  super().__init__(activity_regularizer=activity_regularizer, **kwargs)\n"
     ]
    }
   ],
   "source": [
    "cnn.add(Conv2D(32,(3,3),input_shape=(64,64,3), activation='relu')) #(3,3) is kernel size\n",
    "cnn.add(MaxPooling2D(pool_size=(2,2)))\n",
    "cnn.add(Conv2D(16,(3,3), activation='relu')) #(3,3) is kernel size\n",
    "cnn.add(MaxPooling2D(pool_size=(2,2)))\n",
    "cnn.add(Flatten())"
   ]
  },
  {
   "cell_type": "code",
   "execution_count": 5,
   "id": "698c557a-d6cd-4caa-8513-24d449ca8060",
   "metadata": {},
   "outputs": [],
   "source": [
    "cnn.add(Dense(64, activation=\"relu\"))\n",
    "cnn.add(Dense(32, activation=\"relu\"))\n",
    "cnn.add(Dense(16, activation=\"relu\"))\n",
    "cnn.add(Dense(8, activation=\"relu\"))\n",
    "cnn.add(Dense(4, activation=\"relu\"))\n",
    "cnn.add(Dense(2, activation=\"relu\"))\n",
    "cnn.add(Dense(1, activation=\"sigmoid\"))"
   ]
  },
  {
   "cell_type": "code",
   "execution_count": 6,
   "id": "75147d81-7f7a-49ca-a3a8-ffc7e3c9c78e",
   "metadata": {},
   "outputs": [],
   "source": [
    "cnn.compile(optimizer='adam', loss='binary_crossentropy', metrics=['accuracy'])"
   ]
  },
  {
   "cell_type": "code",
   "execution_count": 7,
   "id": "eee7b99a-2529-4e46-9bfc-e703744cc7b0",
   "metadata": {},
   "outputs": [],
   "source": [
    "from keras.callbacks import EarlyStopping"
   ]
  },
  {
   "cell_type": "code",
   "execution_count": 8,
   "id": "960f3dbb-7323-4298-bd52-16b9bfe06c5f",
   "metadata": {},
   "outputs": [
    {
     "name": "stdout",
     "output_type": "stream",
     "text": [
      "Found 25000 images belonging to 1 classes.\n",
      "Found 12500 images belonging to 1 classes.\n"
     ]
    },
    {
     "name": "stderr",
     "output_type": "stream",
     "text": [
      "C:\\Users\\Asus\\anaconda3\\Lib\\site-packages\\keras\\src\\trainers\\data_adapters\\py_dataset_adapter.py:121: UserWarning: Your `PyDataset` class should call `super().__init__(**kwargs)` in its constructor. `**kwargs` can include `workers`, `use_multiprocessing`, `max_queue_size`. Do not pass these arguments to `fit()`, as they will be ignored.\n",
      "  self._warn_if_super_not_called()\n"
     ]
    },
    {
     "name": "stdout",
     "output_type": "stream",
     "text": [
      "Epoch 1/50\n",
      "\u001b[1m200/200\u001b[0m \u001b[32m━━━━━━━━━━━━━━━━━━━━\u001b[0m\u001b[37m\u001b[0m \u001b[1m87s\u001b[0m 413ms/step - accuracy: 1.0000 - loss: 0.0513 - val_accuracy: 1.0000 - val_loss: 8.2114e-12\n",
      "Epoch 2/50\n",
      "\u001b[1m200/200\u001b[0m \u001b[32m━━━━━━━━━━━━━━━━━━━━\u001b[0m\u001b[37m\u001b[0m \u001b[1m75s\u001b[0m 377ms/step - accuracy: 1.0000 - loss: 1.6000e-12 - val_accuracy: 1.0000 - val_loss: 8.2114e-12\n",
      "Epoch 3/50\n",
      "\u001b[1m200/200\u001b[0m \u001b[32m━━━━━━━━━━━━━━━━━━━━\u001b[0m\u001b[37m\u001b[0m \u001b[1m63s\u001b[0m 315ms/step - accuracy: 1.0000 - loss: 1.6668e-12 - val_accuracy: 1.0000 - val_loss: 8.2113e-12\n",
      "Epoch 4/50\n",
      "\u001b[1m182/200\u001b[0m \u001b[32m━━━━━━━━━━━━━━━━━━\u001b[0m\u001b[37m━━\u001b[0m \u001b[1m2s\u001b[0m 151ms/step - accuracy: 1.0000 - loss: 8.2479e-13"
     ]
    },
    {
     "name": "stderr",
     "output_type": "stream",
     "text": [
      "C:\\Users\\Asus\\anaconda3\\Lib\\site-packages\\keras\\src\\trainers\\epoch_iterator.py:107: UserWarning: Your input ran out of data; interrupting training. Make sure that your dataset or generator can generate at least `steps_per_epoch * epochs` batches. You may need to use the `.repeat()` function when building your dataset.\n",
      "  self._interrupted_warning()\n"
     ]
    },
    {
     "name": "stdout",
     "output_type": "stream",
     "text": [
      "\u001b[1m200/200\u001b[0m \u001b[32m━━━━━━━━━━━━━━━━━━━━\u001b[0m\u001b[37m\u001b[0m \u001b[1m57s\u001b[0m 284ms/step - accuracy: 1.0000 - loss: 8.8708e-13 - val_accuracy: 1.0000 - val_loss: 8.2113e-12\n",
      "Epoch 5/50\n",
      "\u001b[1m200/200\u001b[0m \u001b[32m━━━━━━━━━━━━━━━━━━━━\u001b[0m\u001b[37m\u001b[0m \u001b[1m61s\u001b[0m 308ms/step - accuracy: 1.0000 - loss: 2.2814e-13 - val_accuracy: 1.0000 - val_loss: 8.2113e-12\n",
      "Epoch 6/50\n",
      "\u001b[1m200/200\u001b[0m \u001b[32m━━━━━━━━━━━━━━━━━━━━\u001b[0m\u001b[37m\u001b[0m \u001b[1m59s\u001b[0m 294ms/step - accuracy: 1.0000 - loss: 2.5348e-12 - val_accuracy: 1.0000 - val_loss: 8.2111e-12\n",
      "Epoch 7/50\n",
      "\u001b[1m200/200\u001b[0m \u001b[32m━━━━━━━━━━━━━━━━━━━━\u001b[0m\u001b[37m\u001b[0m \u001b[1m58s\u001b[0m 290ms/step - accuracy: 1.0000 - loss: 3.1637e-13 - val_accuracy: 1.0000 - val_loss: 8.2111e-12\n"
     ]
    },
    {
     "data": {
      "text/plain": [
       "<keras.src.callbacks.history.History at 0x25221917250>"
      ]
     },
     "execution_count": 8,
     "metadata": {},
     "output_type": "execute_result"
    }
   ],
   "source": [
    "# keras documentation:-\n",
    "train_datagen = ImageDataGenerator(\n",
    "        rescale=1./255,\n",
    "        shear_range=0.2,\n",
    "        zoom_range=0.2,\n",
    "        horizontal_flip=True)\n",
    "\n",
    "test_datagen = ImageDataGenerator(rescale=1./255)\n",
    "\n",
    "train_generator = train_datagen.flow_from_directory(\n",
    "        r\"C:\\Users\\Asus\\Downloads\\dogs-vs-cats-redux-kernels-edition\\train\",\n",
    "        target_size=(64, 64),\n",
    "        batch_size=32,\n",
    "        class_mode='binary')\n",
    "\n",
    "test_generator = test_datagen.flow_from_directory(\n",
    "        r\"C:\\Users\\Asus\\Downloads\\dogs-vs-cats-redux-kernels-edition\\test\",\n",
    "        target_size=(64, 64),\n",
    "        batch_size=32,\n",
    "        class_mode='binary')\n",
    "cnn.fit(train_generator, steps_per_epoch=200, epochs=50, validation_data=test_generator, callbacks =EarlyStopping())\n"
   ]
  },
  {
   "cell_type": "code",
   "execution_count": 9,
   "id": "76597558-6e3d-462f-ad56-0f04e0b8634e",
   "metadata": {},
   "outputs": [],
   "source": [
    "from tensorflow.keras.preprocessing import image\n",
    "img=image.load_img(r\"C:\\Users\\Asus\\Downloads\\dogs-vs-cats-redux-kernels-edition\\train\\train\\dog.9466.jpg\", target_size=(64,64))\n",
    "img = image.img_to_array(img)"
   ]
  },
  {
   "cell_type": "code",
   "execution_count": 10,
   "id": "45f437ef-88f5-4f8b-804a-9ccf7a55f92f",
   "metadata": {},
   "outputs": [],
   "source": [
    "import numpy as np\n",
    "img=np.expand_dims(img,axis=0)"
   ]
  },
  {
   "cell_type": "code",
   "execution_count": 11,
   "id": "2a126eab-2de8-4896-ba5e-7196dbbefa39",
   "metadata": {},
   "outputs": [
    {
     "name": "stdout",
     "output_type": "stream",
     "text": [
      "\u001b[1m1/1\u001b[0m \u001b[32m━━━━━━━━━━━━━━━━━━━━\u001b[0m\u001b[37m\u001b[0m \u001b[1m0s\u001b[0m 167ms/step\n"
     ]
    }
   ],
   "source": [
    "p= cnn.predict(img)"
   ]
  },
  {
   "cell_type": "code",
   "execution_count": 12,
   "id": "a17eb314-c514-41b4-a464-2dc983cacf74",
   "metadata": {},
   "outputs": [
    {
     "name": "stdout",
     "output_type": "stream",
     "text": [
      "DOG\n"
     ]
    }
   ],
   "source": [
    "if p[0][0]<0.5:\n",
    "    print('DOG')\n",
    "else:\n",
    "    print('CAT')"
   ]
  }
 ],
 "metadata": {
  "kernelspec": {
   "display_name": "Python 3 (ipykernel)",
   "language": "python",
   "name": "python3"
  },
  "language_info": {
   "codemirror_mode": {
    "name": "ipython",
    "version": 3
   },
   "file_extension": ".py",
   "mimetype": "text/x-python",
   "name": "python",
   "nbconvert_exporter": "python",
   "pygments_lexer": "ipython3",
   "version": "3.11.7"
  }
 },
 "nbformat": 4,
 "nbformat_minor": 5
}
